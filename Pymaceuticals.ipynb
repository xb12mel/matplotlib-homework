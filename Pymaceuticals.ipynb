{
 "cells": [
  {
   "cell_type": "markdown",
   "metadata": {},
   "source": [
    "## Observations and Insights "
   ]
  },
  {
   "cell_type": "markdown",
   "metadata": {},
   "source": []
  },
  {
   "cell_type": "code",
   "execution_count": null,
   "metadata": {},
   "outputs": [],
   "source": [
    "# Dependencies and Setup\n",
    "import matplotlib.pyplot as plt\n",
    "import pandas as pd\n",
    "import scipy.stats as sts\n",
    "import numpy as np\n",
    "\n",
    "# Study data files\n",
    "mouse_metadata_path = \"Mouse_metadata.csv\"\n",
    "study_results_path = \"Study_results.csv\"\n",
    "\n",
    "# Read the mouse data and the study results\n",
    "mouse_metadata = pd.read_csv(mouse_metadata_path)\n",
    "study_results = pd.read_csv(study_results_path)\n",
    "\n",
    "# Combine the data into a single dataset\n",
    "mouse_results_df = pd.merge(mouse_metadata, study_results, on=\"Mouse ID\")\n",
    "\n",
    "# Display the data table for preview\n",
    "mouse_results_df.head()\n"
   ]
  },
  {
   "cell_type": "code",
   "execution_count": null,
   "metadata": {},
   "outputs": [],
   "source": [
    "#test ={\"Drugs\": [\"Ramicane\", \"Naftol\"],\n",
    "        #\"Tumor Volume\": [mouse_results_df.iloc[:,6]]}\n",
    "#test_df=pd.DataFrame(test, columns=[\"Drugs\", \"Tumor Volume\"])"
   ]
  },
  {
   "cell_type": "code",
   "execution_count": null,
   "metadata": {},
   "outputs": [],
   "source": [
    "#Checking for duplicate time id's\n",
    "mouse_results_df[\"Mouse ID\"].value_counts()"
   ]
  },
  {
   "cell_type": "code",
   "execution_count": null,
   "metadata": {},
   "outputs": [],
   "source": [
    "# Checking the number of mice.\n",
    "mouse_results_df[\"Mouse ID\"].count()"
   ]
  },
  {
   "cell_type": "code",
   "execution_count": null,
   "metadata": {},
   "outputs": [],
   "source": [
    "# Optional: Get all the data for the duplicate mouse ID. \n"
   ]
  },
  {
   "cell_type": "code",
   "execution_count": null,
   "metadata": {},
   "outputs": [],
   "source": [
    "# Create a clean DataFrame by dropping the duplicate mouse by its ID.\n",
    "clean_data = mouse_results_df.drop_duplicates(subset=[\"Mouse ID\" ,\"Timepoint\"], keep =\"first\")\n",
    "clean_data.head()"
   ]
  },
  {
   "cell_type": "code",
   "execution_count": null,
   "metadata": {
    "scrolled": true
   },
   "outputs": [],
   "source": [
    "# Checking the number of mice in the clean DataFrame.\n",
    "clean_data[\"Mouse ID\"].count()"
   ]
  },
  {
   "cell_type": "markdown",
   "metadata": {},
   "source": [
    "## Summary Statistics"
   ]
  },
  {
   "cell_type": "code",
   "execution_count": null,
   "metadata": {},
   "outputs": [],
   "source": [
    "# Generate a summary statistics table of mean, median, variance, standard deviation, and SEM of the tumor volume for each regimen\n",
    "summary_data = clean_data[[\"Mouse ID\", \"Drug Regimen\", \"Sex\", \"Timepoint\", \"Tumor Volume (mm3)\"]]\n",
    "summary_data_df=summary_data.groupby(\"Drug Regimen\")\n",
    "summary_data_df.describe()"
   ]
  },
  {
   "cell_type": "code",
   "execution_count": null,
   "metadata": {},
   "outputs": [],
   "source": [
    "# Use groupby and summary statistical methods to calculate the following properties of each drug regimen: \n",
    "\n",
    "# mean, median, variance, standard deviation, and SEM of the tumor volume.\n",
    "mean_stat=summary_data_df[\"Tumor Volume (mm3)\"].mean()\n",
    "median_stat=summary_data_df[\"Tumor Volume (mm3)\"].median()\n",
    "std_dev_stat=summary_data_df[\"Tumor Volume (mm3)\"].std()\n",
    "variance_stat=summary_data_df[\"Tumor Volume (mm3)\"].var()\n",
    "sample_stat=summary_data_df[\"Tumor Volume (mm3)\"].sem()\n",
    "\n",
    "# Assemble the resulting series into a single summary dataframe.\n",
    "statistical_df=pd.DataFrame({\"Mean\": mean_stat,\n",
    "                            \"Median\": median_stat,\n",
    "                            \"Std Dev\": std_dev_stat,\n",
    "                            \"Variance\": variance_stat,\n",
    "                            \"SEM\": sample_stat})\n",
    "\n",
    "statistical_df.head(10)\n"
   ]
  },
  {
   "cell_type": "code",
   "execution_count": null,
   "metadata": {},
   "outputs": [],
   "source": [
    "# Generate a summary statistics table of mean, median, variance, standard deviation, and SEM of the tumor volume for each regimen\n",
    "for label, row in statistical_df.iterrows():\n",
    "    print(label)\n",
    "    print(row)"
   ]
  },
  {
   "cell_type": "code",
   "execution_count": null,
   "metadata": {},
   "outputs": [],
   "source": [
    "# Using the aggregation method, produce the same summary statistics in a single line\n"
   ]
  },
  {
   "cell_type": "markdown",
   "metadata": {},
   "source": [
    "## Bar and Pie Charts"
   ]
  },
  {
   "cell_type": "code",
   "execution_count": null,
   "metadata": {},
   "outputs": [],
   "source": [
    "# Generate a bar plot showing the total number of measurements taken on each drug regimen using pandas.\n",
    "bar=summary_data.groupby(\"Drug Regimen\")[\"Tumor Volume (mm3)\"].sum().plot.bar(x=\"Tumor Volume (mm3)\", rot=90)\n"
   ]
  },
  {
   "cell_type": "code",
   "execution_count": null,
   "metadata": {},
   "outputs": [],
   "source": [
    "# suggestion from Eric\n",
    "summary_data.groupby(\"Drug Regimen\").count()"
   ]
  },
  {
   "cell_type": "code",
   "execution_count": null,
   "metadata": {},
   "outputs": [],
   "source": [
    "# Generate a bar plot showing the total number of measurements taken on each drug regimen using pyplot.\n",
    "measurements_df = summary_data.groupby(\"Drug Regimen\").count()\n",
    "measurements_df.plot(kind=\"bar\")\n",
    "\n",
    "plt.title(\"Measurements per Drug Regimen\")\n",
    "plt.show()\n",
    "plt.tight_layout()"
   ]
  },
  {
   "cell_type": "code",
   "execution_count": null,
   "metadata": {},
   "outputs": [],
   "source": [
    "# Generate a pie plot showing the distribution of female versus male mice using pandas\n",
    "pie_df = summary_data.groupby(\"Sex\")[\"Sex\"].count()\n",
    "pie_df.plot.pie(y=\"Male\", figsize=(10,6))"
   ]
  },
  {
   "cell_type": "code",
   "execution_count": null,
   "metadata": {},
   "outputs": [],
   "source": [
    "# Generate a pie plot showing the distribution of female versus male mice using pyplot\n",
    "labels=\"Male\", \"Female\"\n",
    "sizes=[958, 930]\n",
    "explode=(0, 0.1)\n",
    "\n",
    "fig1, ax1 = plt.subplots()\n",
    "ax1.pie(sizes, explode=explode, labels=labels, autopct='%1.1f%%', shadow=True, startangle=360)\n",
    "ax1.axis(\"equal\")\n",
    "plt.show()"
   ]
  },
  {
   "cell_type": "markdown",
   "metadata": {},
   "source": [
    "## Quartiles, Outliers and Boxplots"
   ]
  },
  {
   "cell_type": "code",
   "execution_count": null,
   "metadata": {},
   "outputs": [],
   "source": [
    "# Calculate the final tumor volume of each mouse across four of the treatment regimens:\n",
    "# Capomulin, Ramicane, Infubinol, and Ceftamin\n",
    "drugs_df=summary_data.set_index(\"Drug Regimen\")\n",
    "target_drugs_df=drugs_df.loc[[\"Capomulin\", \"Ramicane\", \"Infubinol\",\"Ceftamin\"], [\"Mouse ID\", \"Timepoint\", \"Tumor Volume (mm3)\"]]\n",
    "#target_drugs_df\n",
    "\n",
    "\n",
    "# Start by getting the last (greatest) timepoint for each mouse\n",
    "\n",
    "mice_df=target_drugs_df\n",
    "target_mice_df=mice_df.groupby(\"Mouse ID\").max()\n",
    "#target_mice_df\n",
    "\n",
    "\n",
    "# Merge this group df with the original dataframe to get the tumor volume at the last timepoint\n",
    "final_data_df=pd.merge(target_drugs_df, target_mice_df, on=\"Mouse ID\", how=\"left\")\n",
    "\n",
    "final_data_df\n"
   ]
  },
  {
   "cell_type": "code",
   "execution_count": null,
   "metadata": {},
   "outputs": [],
   "source": [
    "# Put treatments into a list for for loop (and later for plot labels)\n",
    "treatments = [\"Capomulin\", \"Raamicane\", \"Infubinol\", \"Ceftamin\"]\n",
    "\n",
    "# Create empty list to fill with tumor vol data (for plotting)\n",
    "\n",
    "tumor_vol=[]\n",
    "\n",
    "# Calculate the IQR and quantitatively determine if there are any potential outliers. \n",
    "\n",
    "quartiles=tumor_vol.quartile([0.25, 0.5, 0.75])\n",
    "lowerq=quartiles[0.25]\n",
    "upperq=quartiles[0.75]\n",
    "irq=upperq-lowerq\n",
    "lower_bound=lowerq-(1.5*iqr)\n",
    "upper_bound=upperq+(1.5*iqr)\n",
    "\n",
    "\n",
    "\n",
    "    # Locate the rows which contain mice on each drug and get the tumor volumes\n",
    "    #for tumor_vol in tumor_volume:\n",
    "        \n",
    "    \n",
    "    # add subset \n",
    "    \n",
    "    \n",
    "    # Determine outliers using upper and lower bounds\n",
    "print(f\"Values below {lower_bound} could be outliers\")\n",
    "print(f\"Values above {upper_bound} could be outliers\")    "
   ]
  },
  {
   "cell_type": "code",
   "execution_count": null,
   "metadata": {},
   "outputs": [],
   "source": [
    "# Generate a box plot of the final tumor volume of each mouse across four regimens of interest\n",
    "fig1, ax1=plt.subplots()\n",
    "ax1.set_title(\"Total Tumor Volume (mm3)\")\n",
    "ax1.set_ylabel(\"Volume (mm3)\")\n",
    "ax1.boxplot(tumor_vol)\n",
    "plt.show()"
   ]
  },
  {
   "cell_type": "markdown",
   "metadata": {},
   "source": [
    "## Line and Scatter Plots"
   ]
  },
  {
   "cell_type": "code",
   "execution_count": null,
   "metadata": {},
   "outputs": [],
   "source": [
    "# Generate a line plot of tumor volume vs. time point for a mouse treated with Capomulin\n",
    "target_drugs_df.reset_index()\n",
    "capomulin_results_df=target_drugs_df.loc[\"Capomulin\", \"Timepoint\": \"Tumor Volume (mm3)\"]\n",
    "#capomulin_results_df\n",
    "x_axis=capomulin_results_df[\"Tumor Volume (mm3)\"]\n",
    "y_axis=target_drugs_df[\"Timepoint\"]\n",
    "plt.plot(x_axis, y_axis)\n"
   ]
  },
  {
   "cell_type": "code",
   "execution_count": null,
   "metadata": {},
   "outputs": [],
   "source": [
    "# Generate a scatter plot of average tumor volume vs. mouse weight for the Capomulin regimen\n",
    "scatter_data_df=target_drugs_df[[\"Timepoint\", \"Tumor Volume (mm3)\"]]\n",
    "scatter_data_df=scatter_data_df.loc[\"Capomulin\", \"Tumor Volume (mm3)\"].mean()\n",
    "x_values=scatter_data_df[\"Tumor Volume (mm3)\"]\n",
    "y_values=scatter_data_df[\"Timepoint\"]\n",
    "plt.scatter(x_values, y_values)\n",
    "plt.xlabel(\"Tumor Volume (mm3)\")\n",
    "plt.y_label(\"Timepoint\")\n",
    "plt.show()\n"
   ]
  },
  {
   "cell_type": "markdown",
   "metadata": {},
   "source": [
    "## Correlation and Regression"
   ]
  },
  {
   "cell_type": "code",
   "execution_count": null,
   "metadata": {},
   "outputs": [],
   "source": [
    "# Calculate the correlation coefficient and linear regression model \n",
    "# for mouse weight and average tumor volume for the Capomulin regimen\n",
    "x_values=scatter_data_df[\"Tumor Volume (mm3)\"]\n",
    "y_values=scatter_data_df[\"Timepoint\"]\n",
    "(slope, intertecept, rvalue, pvalue, stderr)=linergress(x_values, y_values)\n",
    "regress_values=xvalues*slope+intercept\n",
    "line_eq=\"y=\"+str(round(slope, 2))+\"x +\"+str(round(intercept, 2))\n",
    "plt.scatter(x_values, y_values)\n",
    "plt.plot(x_values,regress_values, \"r-\")\n",
    "plt.annotate(line_eq, (6,10), fontsize=15, color=\"green\")\n",
    "plt.xlabel(\"Tumor Volume (mm3)\")\n",
    "plt.ylabel(\"Timepoints\")\n",
    "plt.show()"
   ]
  },
  {
   "cell_type": "code",
   "execution_count": null,
   "metadata": {},
   "outputs": [],
   "source": []
  }
 ],
 "metadata": {
  "anaconda-cloud": {},
  "kernelspec": {
   "display_name": "Python [conda env:root]",
   "language": "python",
   "name": "conda-root-py"
  },
  "language_info": {
   "codemirror_mode": {
    "name": "ipython",
    "version": 3
   },
   "file_extension": ".py",
   "mimetype": "text/x-python",
   "name": "python",
   "nbconvert_exporter": "python",
   "pygments_lexer": "ipython3",
   "version": "3.8.3"
  }
 },
 "nbformat": 4,
 "nbformat_minor": 4
}
